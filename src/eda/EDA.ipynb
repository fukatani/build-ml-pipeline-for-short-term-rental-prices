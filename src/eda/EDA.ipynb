{
 "cells": [
  {
   "cell_type": "code",
   "execution_count": 1,
   "id": "ead3cbd6-ea0f-4dad-8900-edb985496630",
   "metadata": {},
   "outputs": [
    {
     "name": "stderr",
     "output_type": "stream",
     "text": [
      "\u001b[34m\u001b[1mwandb\u001b[0m: Currently logged in as: \u001b[33mnannyakannya\u001b[0m (\u001b[33mnannyakannya-monoxer-\u001b[0m). Use \u001b[1m`wandb login --relogin`\u001b[0m to force relogin\n"
     ]
    },
    {
     "data": {
      "text/html": [
       "wandb version 0.17.7 is available!  To upgrade, please run:\n",
       " $ pip install wandb --upgrade"
      ],
      "text/plain": [
       "<IPython.core.display.HTML object>"
      ]
     },
     "metadata": {},
     "output_type": "display_data"
    },
    {
     "data": {
      "text/html": [
       "Tracking run with wandb version 0.16.0"
      ],
      "text/plain": [
       "<IPython.core.display.HTML object>"
      ]
     },
     "metadata": {},
     "output_type": "display_data"
    },
    {
     "data": {
      "text/html": [
       "Run data is saved locally in <code>/home/ryo/work/github/build-ml-pipeline-for-short-term-rental-prices/src/eda/wandb/run-20240818_202740-te7k4m9d</code>"
      ],
      "text/plain": [
       "<IPython.core.display.HTML object>"
      ]
     },
     "metadata": {},
     "output_type": "display_data"
    },
    {
     "data": {
      "text/html": [
       "Syncing run <strong><a href='https://wandb.ai/nannyakannya-monoxer-/nyc_airbnb/runs/te7k4m9d' target=\"_blank\">lilac-night-13</a></strong> to <a href='https://wandb.ai/nannyakannya-monoxer-/nyc_airbnb' target=\"_blank\">Weights & Biases</a> (<a href='https://wandb.me/run' target=\"_blank\">docs</a>)<br/>"
      ],
      "text/plain": [
       "<IPython.core.display.HTML object>"
      ]
     },
     "metadata": {},
     "output_type": "display_data"
    },
    {
     "data": {
      "text/html": [
       " View project at <a href='https://wandb.ai/nannyakannya-monoxer-/nyc_airbnb' target=\"_blank\">https://wandb.ai/nannyakannya-monoxer-/nyc_airbnb</a>"
      ],
      "text/plain": [
       "<IPython.core.display.HTML object>"
      ]
     },
     "metadata": {},
     "output_type": "display_data"
    },
    {
     "data": {
      "text/html": [
       " View run at <a href='https://wandb.ai/nannyakannya-monoxer-/nyc_airbnb/runs/te7k4m9d' target=\"_blank\">https://wandb.ai/nannyakannya-monoxer-/nyc_airbnb/runs/te7k4m9d</a>"
      ],
      "text/plain": [
       "<IPython.core.display.HTML object>"
      ]
     },
     "metadata": {},
     "output_type": "display_data"
    }
   ],
   "source": [
    "import wandb\n",
    "import pandas as pd\n",
    "import category_encoders\n",
    "\n",
    "run = wandb.init(project=\"nyc_airbnb\", group=\"eda\", save_code=True)\n",
    "local_path = wandb.use_artifact(\"sample.csv:latest\").file()\n",
    "df = pd.read_csv(local_path)"
   ]
  },
  {
   "cell_type": "code",
   "execution_count": 2,
   "id": "a2104bd4-eafc-4b6e-bba5-a76e20e2d17d",
   "metadata": {},
   "outputs": [
    {
     "data": {
      "application/vnd.jupyter.widget-view+json": {
       "model_id": "80aee8df4a5b4e9884c2b0b954d0bc3a",
       "version_major": 2,
       "version_minor": 0
      },
      "text/plain": [
       "Summarize dataset:   0%|          | 0/5 [00:00<?, ?it/s]"
      ]
     },
     "metadata": {},
     "output_type": "display_data"
    },
    {
     "name": "stderr",
     "output_type": "stream",
     "text": [
      "/home/ryo/.pyenv/versions/miniconda3-latest/envs/mlflow-7443c589ea536dfe537e56afe73b4b29d3d80f8a/lib/python3.10/site-packages/ydata_profiling/model/typeset.py:208: FutureWarning: is_categorical_dtype is deprecated and will be removed in a future version. Use isinstance(dtype, CategoricalDtype) instead\n",
      "  is_valid_dtype = pdt.is_categorical_dtype(series) and not pdt.is_bool_dtype(\n",
      "/home/ryo/.pyenv/versions/miniconda3-latest/envs/mlflow-7443c589ea536dfe537e56afe73b4b29d3d80f8a/lib/python3.10/site-packages/ydata_profiling/model/typeset.py:125: FutureWarning: is_categorical_dtype is deprecated and will be removed in a future version. Use isinstance(dtype, CategoricalDtype) instead\n",
      "  not pdt.is_categorical_dtype(series)\n",
      "/home/ryo/.pyenv/versions/miniconda3-latest/envs/mlflow-7443c589ea536dfe537e56afe73b4b29d3d80f8a/lib/python3.10/site-packages/ydata_profiling/model/typeset.py:125: FutureWarning: is_categorical_dtype is deprecated and will be removed in a future version. Use isinstance(dtype, CategoricalDtype) instead\n",
      "  not pdt.is_categorical_dtype(series)\n",
      "/home/ryo/.pyenv/versions/miniconda3-latest/envs/mlflow-7443c589ea536dfe537e56afe73b4b29d3d80f8a/lib/python3.10/site-packages/ydata_profiling/model/typeset_relations.py:34: FutureWarning: is_categorical_dtype is deprecated and will be removed in a future version. Use isinstance(dtype, CategoricalDtype) instead\n",
      "  if pdt.is_categorical_dtype(series):\n",
      "/home/ryo/.pyenv/versions/miniconda3-latest/envs/mlflow-7443c589ea536dfe537e56afe73b4b29d3d80f8a/lib/python3.10/site-packages/ydata_profiling/model/typeset_relations.py:34: FutureWarning: is_categorical_dtype is deprecated and will be removed in a future version. Use isinstance(dtype, CategoricalDtype) instead\n",
      "  if pdt.is_categorical_dtype(series):\n",
      "/home/ryo/.pyenv/versions/miniconda3-latest/envs/mlflow-7443c589ea536dfe537e56afe73b4b29d3d80f8a/lib/python3.10/site-packages/ydata_profiling/model/typeset.py:208: FutureWarning: is_categorical_dtype is deprecated and will be removed in a future version. Use isinstance(dtype, CategoricalDtype) instead\n",
      "  is_valid_dtype = pdt.is_categorical_dtype(series) and not pdt.is_bool_dtype(\n",
      "/home/ryo/.pyenv/versions/miniconda3-latest/envs/mlflow-7443c589ea536dfe537e56afe73b4b29d3d80f8a/lib/python3.10/site-packages/ydata_profiling/model/typeset.py:125: FutureWarning: is_categorical_dtype is deprecated and will be removed in a future version. Use isinstance(dtype, CategoricalDtype) instead\n",
      "  not pdt.is_categorical_dtype(series)\n",
      "/home/ryo/.pyenv/versions/miniconda3-latest/envs/mlflow-7443c589ea536dfe537e56afe73b4b29d3d80f8a/lib/python3.10/site-packages/ydata_profiling/model/typeset_relations.py:34: FutureWarning: is_categorical_dtype is deprecated and will be removed in a future version. Use isinstance(dtype, CategoricalDtype) instead\n",
      "  if pdt.is_categorical_dtype(series):\n",
      "/home/ryo/.pyenv/versions/miniconda3-latest/envs/mlflow-7443c589ea536dfe537e56afe73b4b29d3d80f8a/lib/python3.10/site-packages/ydata_profiling/model/typeset_relations.py:34: FutureWarning: is_categorical_dtype is deprecated and will be removed in a future version. Use isinstance(dtype, CategoricalDtype) instead\n",
      "  if pdt.is_categorical_dtype(series):\n",
      "/home/ryo/.pyenv/versions/miniconda3-latest/envs/mlflow-7443c589ea536dfe537e56afe73b4b29d3d80f8a/lib/python3.10/site-packages/ydata_profiling/model/typeset.py:208: FutureWarning: is_categorical_dtype is deprecated and will be removed in a future version. Use isinstance(dtype, CategoricalDtype) instead\n",
      "  is_valid_dtype = pdt.is_categorical_dtype(series) and not pdt.is_bool_dtype(\n",
      "/home/ryo/.pyenv/versions/miniconda3-latest/envs/mlflow-7443c589ea536dfe537e56afe73b4b29d3d80f8a/lib/python3.10/site-packages/ydata_profiling/model/typeset.py:125: FutureWarning: is_categorical_dtype is deprecated and will be removed in a future version. Use isinstance(dtype, CategoricalDtype) instead\n",
      "  not pdt.is_categorical_dtype(series)\n",
      "/home/ryo/.pyenv/versions/miniconda3-latest/envs/mlflow-7443c589ea536dfe537e56afe73b4b29d3d80f8a/lib/python3.10/site-packages/ydata_profiling/model/typeset.py:125: FutureWarning: is_categorical_dtype is deprecated and will be removed in a future version. Use isinstance(dtype, CategoricalDtype) instead\n",
      "  not pdt.is_categorical_dtype(series)\n",
      "/home/ryo/.pyenv/versions/miniconda3-latest/envs/mlflow-7443c589ea536dfe537e56afe73b4b29d3d80f8a/lib/python3.10/site-packages/ydata_profiling/model/typeset_relations.py:34: FutureWarning: is_categorical_dtype is deprecated and will be removed in a future version. Use isinstance(dtype, CategoricalDtype) instead\n",
      "  if pdt.is_categorical_dtype(series):\n",
      "/home/ryo/.pyenv/versions/miniconda3-latest/envs/mlflow-7443c589ea536dfe537e56afe73b4b29d3d80f8a/lib/python3.10/site-packages/ydata_profiling/model/typeset_relations.py:34: FutureWarning: is_categorical_dtype is deprecated and will be removed in a future version. Use isinstance(dtype, CategoricalDtype) instead\n",
      "  if pdt.is_categorical_dtype(series):\n",
      "/home/ryo/.pyenv/versions/miniconda3-latest/envs/mlflow-7443c589ea536dfe537e56afe73b4b29d3d80f8a/lib/python3.10/site-packages/ydata_profiling/model/typeset_relations.py:34: FutureWarning: is_categorical_dtype is deprecated and will be removed in a future version. Use isinstance(dtype, CategoricalDtype) instead\n",
      "  if pdt.is_categorical_dtype(series):\n",
      "/home/ryo/.pyenv/versions/miniconda3-latest/envs/mlflow-7443c589ea536dfe537e56afe73b4b29d3d80f8a/lib/python3.10/site-packages/ydata_profiling/model/typeset.py:208: FutureWarning: is_categorical_dtype is deprecated and will be removed in a future version. Use isinstance(dtype, CategoricalDtype) instead\n",
      "  is_valid_dtype = pdt.is_categorical_dtype(series) and not pdt.is_bool_dtype(\n",
      "/home/ryo/.pyenv/versions/miniconda3-latest/envs/mlflow-7443c589ea536dfe537e56afe73b4b29d3d80f8a/lib/python3.10/site-packages/ydata_profiling/model/typeset.py:125: FutureWarning: is_categorical_dtype is deprecated and will be removed in a future version. Use isinstance(dtype, CategoricalDtype) instead\n",
      "  not pdt.is_categorical_dtype(series)\n",
      "/home/ryo/.pyenv/versions/miniconda3-latest/envs/mlflow-7443c589ea536dfe537e56afe73b4b29d3d80f8a/lib/python3.10/site-packages/ydata_profiling/model/typeset_relations.py:34: FutureWarning: is_categorical_dtype is deprecated and will be removed in a future version. Use isinstance(dtype, CategoricalDtype) instead\n",
      "  if pdt.is_categorical_dtype(series):\n",
      "/home/ryo/.pyenv/versions/miniconda3-latest/envs/mlflow-7443c589ea536dfe537e56afe73b4b29d3d80f8a/lib/python3.10/site-packages/ydata_profiling/model/typeset.py:125: FutureWarning: is_categorical_dtype is deprecated and will be removed in a future version. Use isinstance(dtype, CategoricalDtype) instead\n",
      "  not pdt.is_categorical_dtype(series)\n",
      "/home/ryo/.pyenv/versions/miniconda3-latest/envs/mlflow-7443c589ea536dfe537e56afe73b4b29d3d80f8a/lib/python3.10/site-packages/ydata_profiling/model/typeset_relations.py:34: FutureWarning: is_categorical_dtype is deprecated and will be removed in a future version. Use isinstance(dtype, CategoricalDtype) instead\n",
      "  if pdt.is_categorical_dtype(series):\n",
      "/home/ryo/.pyenv/versions/miniconda3-latest/envs/mlflow-7443c589ea536dfe537e56afe73b4b29d3d80f8a/lib/python3.10/site-packages/ydata_profiling/model/typeset.py:208: FutureWarning: is_categorical_dtype is deprecated and will be removed in a future version. Use isinstance(dtype, CategoricalDtype) instead\n",
      "  is_valid_dtype = pdt.is_categorical_dtype(series) and not pdt.is_bool_dtype(\n",
      "/home/ryo/.pyenv/versions/miniconda3-latest/envs/mlflow-7443c589ea536dfe537e56afe73b4b29d3d80f8a/lib/python3.10/site-packages/ydata_profiling/model/typeset.py:125: FutureWarning: is_categorical_dtype is deprecated and will be removed in a future version. Use isinstance(dtype, CategoricalDtype) instead\n",
      "  not pdt.is_categorical_dtype(series)\n",
      "/home/ryo/.pyenv/versions/miniconda3-latest/envs/mlflow-7443c589ea536dfe537e56afe73b4b29d3d80f8a/lib/python3.10/site-packages/ydata_profiling/model/typeset_relations.py:34: FutureWarning: is_categorical_dtype is deprecated and will be removed in a future version. Use isinstance(dtype, CategoricalDtype) instead\n",
      "  if pdt.is_categorical_dtype(series):\n",
      "/home/ryo/.pyenv/versions/miniconda3-latest/envs/mlflow-7443c589ea536dfe537e56afe73b4b29d3d80f8a/lib/python3.10/site-packages/ydata_profiling/model/typeset_relations.py:34: FutureWarning: is_categorical_dtype is deprecated and will be removed in a future version. Use isinstance(dtype, CategoricalDtype) instead\n",
      "  if pdt.is_categorical_dtype(series):\n",
      "/home/ryo/.pyenv/versions/miniconda3-latest/envs/mlflow-7443c589ea536dfe537e56afe73b4b29d3d80f8a/lib/python3.10/site-packages/ydata_profiling/model/typeset.py:208: FutureWarning: is_categorical_dtype is deprecated and will be removed in a future version. Use isinstance(dtype, CategoricalDtype) instead\n",
      "  is_valid_dtype = pdt.is_categorical_dtype(series) and not pdt.is_bool_dtype(\n",
      "/home/ryo/.pyenv/versions/miniconda3-latest/envs/mlflow-7443c589ea536dfe537e56afe73b4b29d3d80f8a/lib/python3.10/site-packages/ydata_profiling/model/typeset.py:125: FutureWarning: is_categorical_dtype is deprecated and will be removed in a future version. Use isinstance(dtype, CategoricalDtype) instead\n",
      "  not pdt.is_categorical_dtype(series)\n",
      "/home/ryo/.pyenv/versions/miniconda3-latest/envs/mlflow-7443c589ea536dfe537e56afe73b4b29d3d80f8a/lib/python3.10/site-packages/ydata_profiling/model/typeset_relations.py:34: FutureWarning: is_categorical_dtype is deprecated and will be removed in a future version. Use isinstance(dtype, CategoricalDtype) instead\n",
      "  if pdt.is_categorical_dtype(series):\n",
      "/home/ryo/.pyenv/versions/miniconda3-latest/envs/mlflow-7443c589ea536dfe537e56afe73b4b29d3d80f8a/lib/python3.10/site-packages/ydata_profiling/model/typeset.py:208: FutureWarning: is_categorical_dtype is deprecated and will be removed in a future version. Use isinstance(dtype, CategoricalDtype) instead\n",
      "  is_valid_dtype = pdt.is_categorical_dtype(series) and not pdt.is_bool_dtype(\n",
      "/home/ryo/.pyenv/versions/miniconda3-latest/envs/mlflow-7443c589ea536dfe537e56afe73b4b29d3d80f8a/lib/python3.10/site-packages/ydata_profiling/model/typeset.py:125: FutureWarning: is_categorical_dtype is deprecated and will be removed in a future version. Use isinstance(dtype, CategoricalDtype) instead\n",
      "  not pdt.is_categorical_dtype(series)\n",
      "/home/ryo/.pyenv/versions/miniconda3-latest/envs/mlflow-7443c589ea536dfe537e56afe73b4b29d3d80f8a/lib/python3.10/site-packages/ydata_profiling/model/typeset_relations.py:34: FutureWarning: is_categorical_dtype is deprecated and will be removed in a future version. Use isinstance(dtype, CategoricalDtype) instead\n",
      "  if pdt.is_categorical_dtype(series):\n",
      "/home/ryo/.pyenv/versions/miniconda3-latest/envs/mlflow-7443c589ea536dfe537e56afe73b4b29d3d80f8a/lib/python3.10/site-packages/ydata_profiling/model/typeset.py:208: FutureWarning: is_categorical_dtype is deprecated and will be removed in a future version. Use isinstance(dtype, CategoricalDtype) instead\n",
      "  is_valid_dtype = pdt.is_categorical_dtype(series) and not pdt.is_bool_dtype(\n",
      "/home/ryo/.pyenv/versions/miniconda3-latest/envs/mlflow-7443c589ea536dfe537e56afe73b4b29d3d80f8a/lib/python3.10/site-packages/ydata_profiling/model/typeset.py:125: FutureWarning: is_categorical_dtype is deprecated and will be removed in a future version. Use isinstance(dtype, CategoricalDtype) instead\n",
      "  not pdt.is_categorical_dtype(series)\n",
      "/home/ryo/.pyenv/versions/miniconda3-latest/envs/mlflow-7443c589ea536dfe537e56afe73b4b29d3d80f8a/lib/python3.10/site-packages/ydata_profiling/model/typeset_relations.py:34: FutureWarning: is_categorical_dtype is deprecated and will be removed in a future version. Use isinstance(dtype, CategoricalDtype) instead\n",
      "  if pdt.is_categorical_dtype(series):\n",
      "/home/ryo/.pyenv/versions/miniconda3-latest/envs/mlflow-7443c589ea536dfe537e56afe73b4b29d3d80f8a/lib/python3.10/site-packages/ydata_profiling/model/correlations.py:66: UserWarning: There was an attempt to calculate the auto correlation, but this failed.\n",
      "To hide this warning, disable the calculation\n",
      "(using `df.profile_report(correlations={\"auto\": {\"calculate\": False}})`\n",
      "If this is problematic for your use case, please report this as an issue:\n",
      "https://github.com/ydataai/ydata-profiling/issues\n",
      "(include the error message: 'Function <code object pandas_auto_compute at 0x7f876d3d6760, file \"/home/ryo/.pyenv/versions/miniconda3-latest/envs/mlflow-7443c589ea536dfe537e56afe73b4b29d3d80f8a/lib/python3.10/site-packages/ydata_profiling/model/pandas/correlations_pandas.py\", line 167>')\n",
      "  warnings.warn(\n"
     ]
    },
    {
     "data": {
      "application/vnd.jupyter.widget-view+json": {
       "model_id": "c614faa7694d438ebd51e864ef2fca58",
       "version_major": 2,
       "version_minor": 0
      },
      "text/plain": [
       "Generate report structure:   0%|          | 0/1 [00:00<?, ?it/s]"
      ]
     },
     "metadata": {},
     "output_type": "display_data"
    },
    {
     "data": {
      "application/vnd.jupyter.widget-view+json": {
       "model_id": "",
       "version_major": 2,
       "version_minor": 0
      },
      "text/plain": [
       "Render widgets:   0%|          | 0/1 [00:00<?, ?it/s]"
      ]
     },
     "metadata": {},
     "output_type": "display_data"
    },
    {
     "data": {
      "application/vnd.jupyter.widget-view+json": {
       "model_id": "97bc1e2acf454c6791ec9786be12fa58",
       "version_major": 2,
       "version_minor": 0
      },
      "text/plain": [
       "VBox(children=(Tab(children=(Tab(children=(GridBox(children=(VBox(children=(GridspecLayout(children=(HTML(valu…"
      ]
     },
     "metadata": {},
     "output_type": "display_data"
    }
   ],
   "source": [
    "import ydata_profiling\n",
    "profile = ydata_profiling.ProfileReport(df)\n",
    "profile.to_widgets()"
   ]
  },
  {
   "cell_type": "code",
   "execution_count": 10,
   "id": "61c346b3-17b8-4dab-b70d-910d3786010a",
   "metadata": {},
   "outputs": [
    {
     "data": {
      "text/plain": [
       "array(['Sunnyside', \"Hell's Kitchen\", 'West Village', 'Astoria',\n",
       "       'Bushwick', 'Prospect-Lefferts Gardens', 'Upper East Side',\n",
       "       'Sunset Park', 'Chinatown', 'Williamsburg', 'Forest Hills',\n",
       "       'Flatbush', 'Fort Greene', 'Eastchester', 'East Village',\n",
       "       'Windsor Terrace', 'Boerum Hill', 'South Ozone Park', 'Greenpoint',\n",
       "       'Bedford-Stuyvesant', 'East Harlem', 'Upper West Side', 'Harlem',\n",
       "       'Park Slope', 'Crown Heights', 'Vinegar Hill', 'Flushing',\n",
       "       'Lower East Side', 'Morningside Heights', 'Prospect Heights',\n",
       "       'Long Island City', 'SoHo', 'Midtown', 'South Slope',\n",
       "       'Ditmars Steinway', 'Chelsea', 'Kips Bay', 'Financial District',\n",
       "       'Arverne', 'Bensonhurst', 'Clinton Hill', 'Tompkinsville',\n",
       "       'Queens Village', 'Williamsbridge', 'Gravesend', 'Woodside',\n",
       "       'Bronxdale', 'Nolita', 'Washington Heights', 'Murray Hill',\n",
       "       'Bay Ridge', 'Brooklyn Heights', 'Gowanus', 'East Flatbush',\n",
       "       'Ridgewood', 'Inwood', 'Elmhurst', 'Fordham', 'Throgs Neck',\n",
       "       'Cypress Hills', 'Carroll Gardens', 'Two Bridges',\n",
       "       'Theater District', 'Bayswater', 'DUMBO', 'Kensington', 'Tribeca',\n",
       "       'Jamaica Estates', 'East New York', 'East Elmhurst',\n",
       "       'Jackson Heights', 'University Heights', 'Gramercy',\n",
       "       'Greenwich Village', 'Battery Park City', 'Concourse Village',\n",
       "       'Ozone Park', 'Springfield Gardens', 'Jamaica', 'Red Hook',\n",
       "       'Maspeth', 'Flatlands', 'Bayside', 'Midwood', 'Richmond Hill',\n",
       "       'Mott Haven', 'Rockaway Beach', 'Van Nest', 'St. Albans',\n",
       "       'Clason Point', 'Woodhaven', 'Allerton', 'Concourse', 'Oakwood',\n",
       "       'Cobble Hill', 'Wakefield', 'Kew Gardens', 'NoHo', 'Borough Park',\n",
       "       'Port Morris', 'Roosevelt Island', 'Baychester', 'Neponsit',\n",
       "       'Sea Gate', 'Briarwood', 'Columbia St', 'Glendale', 'Kingsbridge',\n",
       "       'Highbridge', 'Flatiron District', 'Civic Center',\n",
       "       'Sheepshead Bay', 'Rego Park', 'Corona', 'Downtown Brooklyn',\n",
       "       'Brighton Beach', 'Laurelton', 'Port Richmond', 'Rosedale',\n",
       "       'Canarsie', 'Fort Hamilton', 'Mount Hope', 'Middle Village',\n",
       "       'Howard Beach', 'St. George', 'Brownsville', 'Arrochar', 'Belmont',\n",
       "       'City Island', 'Morris Park', 'Randall Manor', 'Stuyvesant Town',\n",
       "       'Unionport', \"Bull's Head\", 'North Riverdale', 'Parkchester',\n",
       "       'Far Rockaway', 'Navy Yard', 'Little Italy', 'Kew Gardens Hills',\n",
       "       'West Brighton', 'Pelham Gardens', 'Marble Hill', 'Fresh Meadows',\n",
       "       'Dyker Heights', 'Claremont Village', 'Eltingville',\n",
       "       'Cambria Heights', 'Melrose', 'Edgemere', 'Fieldston',\n",
       "       'Dongan Hills', 'Arden Heights', 'Coney Island',\n",
       "       'Westchester Square', 'Grymes Hill', 'Norwood', 'Great Kills',\n",
       "       'Co-op City', 'Midland Beach', 'Riverdale', 'Longwood',\n",
       "       'Hunts Point', 'Hollis', 'Mill Basin', 'Shore Acres', 'Clifton',\n",
       "       'Pelham Bay', 'Morris Heights', 'Bath Beach', 'Lighthouse Hill',\n",
       "       'Bay Terrace', 'Mariners Harbor', 'Tremont', 'Silver Lake',\n",
       "       'Morrisania', 'Whitestone', 'Douglaston', 'Grant City',\n",
       "       'College Point', 'East Morrisania', 'Emerson Hill', 'Concord',\n",
       "       'Stapleton', 'Spuyten Duyvil', 'Schuylerville', 'Little Neck',\n",
       "       'New Brighton', 'Soundview', 'Edenwald', 'Belle Harbor',\n",
       "       'South Beach', 'Manhattan Beach', 'Woodlawn', 'Howland Hook',\n",
       "       'Castleton Corners', 'Graniteville', 'Bellerose', 'Willowbrook',\n",
       "       'New Springville', 'Rosebank', 'Jamaica Hills', 'Bergen Beach',\n",
       "       'Fort Wadsworth', 'Huguenot', 'New Dorp', 'Mount Eden',\n",
       "       'Westerleigh', 'Bay Terrace, Staten Island', 'Holliswood',\n",
       "       'Castle Hill', 'New Dorp Beach', \"Prince's Bay\", 'Tottenville',\n",
       "       'Todt Hill', 'Olinville', 'Woodrow'], dtype=object)"
      ]
     },
     "execution_count": 10,
     "metadata": {},
     "output_type": "execute_result"
    }
   ],
   "source": [
    "# count_encoder = category_encoders.CountEncoder(cols=['host_id'])\n",
    "# count_encoder.fit_transform(X)\n",
    "df['neighbourhood'].unique()"
   ]
  },
  {
   "cell_type": "code",
   "execution_count": 8,
   "id": "c168154a-95b7-42d0-9100-ec82f3292d46",
   "metadata": {},
   "outputs": [
    {
     "data": {
      "text/plain": [
       "(20000, 16)"
      ]
     },
     "execution_count": 8,
     "metadata": {},
     "output_type": "execute_result"
    }
   ],
   "source": [
    "df.shape"
   ]
  },
  {
   "cell_type": "code",
   "execution_count": 8,
   "id": "88cfcb06-fb5c-4db5-8d5b-4dc0ff11c683",
   "metadata": {},
   "outputs": [],
   "source": [
    "count_encoder = category_encoders.CountEncoder(cols=['host_id', 'neighbourhood'])\n",
    "df = count_encoder.fit_transform(df)"
   ]
  },
  {
   "cell_type": "code",
   "execution_count": 6,
   "id": "c49b339f-a129-4e4d-a56d-c1fbd918dd57",
   "metadata": {},
   "outputs": [],
   "source": [
    "min_price = 10\n",
    "max_price = 350\n",
    "idx = df['price'].between(min_price, max_price)\n",
    "df = df[idx].copy()\n",
    "# Convert last_review to datetime\n",
    "df['last_review'] = pd.to_datetime(df['last_review'])"
   ]
  },
  {
   "cell_type": "code",
   "execution_count": 10,
   "id": "e9e7137d-5caf-40cd-939a-dbeaa7568ac3",
   "metadata": {},
   "outputs": [
    {
     "data": {
      "application/vnd.jupyter.widget-view+json": {
       "model_id": "c9439c47f9994e1b9b273b41efb9926c",
       "version_major": 2,
       "version_minor": 0
      },
      "text/plain": [
       "Summarize dataset:   0%|          | 0/5 [00:00<?, ?it/s]"
      ]
     },
     "metadata": {},
     "output_type": "display_data"
    },
    {
     "name": "stderr",
     "output_type": "stream",
     "text": [
      "/home/ryo/.pyenv/versions/miniconda3-latest/envs/mlflow-47f6273df0b5dfba88b956baa9b2ddbf2746f953/lib/python3.10/site-packages/ydata_profiling/model/typeset.py:208: FutureWarning: is_categorical_dtype is deprecated and will be removed in a future version. Use isinstance(dtype, CategoricalDtype) instead\n",
      "  is_valid_dtype = pdt.is_categorical_dtype(series) and not pdt.is_bool_dtype(\n",
      "/home/ryo/.pyenv/versions/miniconda3-latest/envs/mlflow-47f6273df0b5dfba88b956baa9b2ddbf2746f953/lib/python3.10/site-packages/ydata_profiling/model/typeset.py:125: FutureWarning: is_categorical_dtype is deprecated and will be removed in a future version. Use isinstance(dtype, CategoricalDtype) instead\n",
      "  not pdt.is_categorical_dtype(series)\n",
      "/home/ryo/.pyenv/versions/miniconda3-latest/envs/mlflow-47f6273df0b5dfba88b956baa9b2ddbf2746f953/lib/python3.10/site-packages/ydata_profiling/model/typeset.py:125: FutureWarning: is_categorical_dtype is deprecated and will be removed in a future version. Use isinstance(dtype, CategoricalDtype) instead\n",
      "  not pdt.is_categorical_dtype(series)\n",
      "/home/ryo/.pyenv/versions/miniconda3-latest/envs/mlflow-47f6273df0b5dfba88b956baa9b2ddbf2746f953/lib/python3.10/site-packages/ydata_profiling/model/typeset_relations.py:34: FutureWarning: is_categorical_dtype is deprecated and will be removed in a future version. Use isinstance(dtype, CategoricalDtype) instead\n",
      "  if pdt.is_categorical_dtype(series):\n",
      "/home/ryo/.pyenv/versions/miniconda3-latest/envs/mlflow-47f6273df0b5dfba88b956baa9b2ddbf2746f953/lib/python3.10/site-packages/ydata_profiling/model/typeset_relations.py:34: FutureWarning: is_categorical_dtype is deprecated and will be removed in a future version. Use isinstance(dtype, CategoricalDtype) instead\n",
      "  if pdt.is_categorical_dtype(series):\n",
      "/home/ryo/.pyenv/versions/miniconda3-latest/envs/mlflow-47f6273df0b5dfba88b956baa9b2ddbf2746f953/lib/python3.10/site-packages/ydata_profiling/model/typeset.py:208: FutureWarning: is_categorical_dtype is deprecated and will be removed in a future version. Use isinstance(dtype, CategoricalDtype) instead\n",
      "  is_valid_dtype = pdt.is_categorical_dtype(series) and not pdt.is_bool_dtype(\n",
      "/home/ryo/.pyenv/versions/miniconda3-latest/envs/mlflow-47f6273df0b5dfba88b956baa9b2ddbf2746f953/lib/python3.10/site-packages/ydata_profiling/model/typeset.py:125: FutureWarning: is_categorical_dtype is deprecated and will be removed in a future version. Use isinstance(dtype, CategoricalDtype) instead\n",
      "  not pdt.is_categorical_dtype(series)\n",
      "/home/ryo/.pyenv/versions/miniconda3-latest/envs/mlflow-47f6273df0b5dfba88b956baa9b2ddbf2746f953/lib/python3.10/site-packages/ydata_profiling/model/typeset.py:208: FutureWarning: is_categorical_dtype is deprecated and will be removed in a future version. Use isinstance(dtype, CategoricalDtype) instead\n",
      "  is_valid_dtype = pdt.is_categorical_dtype(series) and not pdt.is_bool_dtype(\n",
      "/home/ryo/.pyenv/versions/miniconda3-latest/envs/mlflow-47f6273df0b5dfba88b956baa9b2ddbf2746f953/lib/python3.10/site-packages/ydata_profiling/model/typeset.py:125: FutureWarning: is_categorical_dtype is deprecated and will be removed in a future version. Use isinstance(dtype, CategoricalDtype) instead\n",
      "  not pdt.is_categorical_dtype(series)\n",
      "/home/ryo/.pyenv/versions/miniconda3-latest/envs/mlflow-47f6273df0b5dfba88b956baa9b2ddbf2746f953/lib/python3.10/site-packages/ydata_profiling/model/typeset_relations.py:34: FutureWarning: is_categorical_dtype is deprecated and will be removed in a future version. Use isinstance(dtype, CategoricalDtype) instead\n",
      "  if pdt.is_categorical_dtype(series):\n",
      "/home/ryo/.pyenv/versions/miniconda3-latest/envs/mlflow-47f6273df0b5dfba88b956baa9b2ddbf2746f953/lib/python3.10/site-packages/ydata_profiling/model/typeset_relations.py:34: FutureWarning: is_categorical_dtype is deprecated and will be removed in a future version. Use isinstance(dtype, CategoricalDtype) instead\n",
      "  if pdt.is_categorical_dtype(series):\n",
      "/home/ryo/.pyenv/versions/miniconda3-latest/envs/mlflow-47f6273df0b5dfba88b956baa9b2ddbf2746f953/lib/python3.10/site-packages/ydata_profiling/model/typeset_relations.py:34: FutureWarning: is_categorical_dtype is deprecated and will be removed in a future version. Use isinstance(dtype, CategoricalDtype) instead\n",
      "  if pdt.is_categorical_dtype(series):\n",
      "/home/ryo/.pyenv/versions/miniconda3-latest/envs/mlflow-47f6273df0b5dfba88b956baa9b2ddbf2746f953/lib/python3.10/site-packages/ydata_profiling/model/typeset_relations.py:34: FutureWarning: is_categorical_dtype is deprecated and will be removed in a future version. Use isinstance(dtype, CategoricalDtype) instead\n",
      "  if pdt.is_categorical_dtype(series):\n",
      "/home/ryo/.pyenv/versions/miniconda3-latest/envs/mlflow-47f6273df0b5dfba88b956baa9b2ddbf2746f953/lib/python3.10/site-packages/ydata_profiling/model/typeset.py:208: FutureWarning: is_categorical_dtype is deprecated and will be removed in a future version. Use isinstance(dtype, CategoricalDtype) instead\n",
      "  is_valid_dtype = pdt.is_categorical_dtype(series) and not pdt.is_bool_dtype(\n",
      "/home/ryo/.pyenv/versions/miniconda3-latest/envs/mlflow-47f6273df0b5dfba88b956baa9b2ddbf2746f953/lib/python3.10/site-packages/ydata_profiling/model/typeset.py:125: FutureWarning: is_categorical_dtype is deprecated and will be removed in a future version. Use isinstance(dtype, CategoricalDtype) instead\n",
      "  not pdt.is_categorical_dtype(series)\n",
      "/home/ryo/.pyenv/versions/miniconda3-latest/envs/mlflow-47f6273df0b5dfba88b956baa9b2ddbf2746f953/lib/python3.10/site-packages/ydata_profiling/model/typeset_relations.py:34: FutureWarning: is_categorical_dtype is deprecated and will be removed in a future version. Use isinstance(dtype, CategoricalDtype) instead\n",
      "  if pdt.is_categorical_dtype(series):\n",
      "/home/ryo/.pyenv/versions/miniconda3-latest/envs/mlflow-47f6273df0b5dfba88b956baa9b2ddbf2746f953/lib/python3.10/site-packages/ydata_profiling/model/typeset_relations.py:34: FutureWarning: is_categorical_dtype is deprecated and will be removed in a future version. Use isinstance(dtype, CategoricalDtype) instead\n",
      "  if pdt.is_categorical_dtype(series):\n",
      "/home/ryo/.pyenv/versions/miniconda3-latest/envs/mlflow-47f6273df0b5dfba88b956baa9b2ddbf2746f953/lib/python3.10/site-packages/ydata_profiling/model/typeset.py:208: FutureWarning: is_categorical_dtype is deprecated and will be removed in a future version. Use isinstance(dtype, CategoricalDtype) instead\n",
      "  is_valid_dtype = pdt.is_categorical_dtype(series) and not pdt.is_bool_dtype(\n",
      "/home/ryo/.pyenv/versions/miniconda3-latest/envs/mlflow-47f6273df0b5dfba88b956baa9b2ddbf2746f953/lib/python3.10/site-packages/ydata_profiling/model/typeset.py:125: FutureWarning: is_categorical_dtype is deprecated and will be removed in a future version. Use isinstance(dtype, CategoricalDtype) instead\n",
      "  not pdt.is_categorical_dtype(series)\n",
      "/home/ryo/.pyenv/versions/miniconda3-latest/envs/mlflow-47f6273df0b5dfba88b956baa9b2ddbf2746f953/lib/python3.10/site-packages/ydata_profiling/model/typeset_relations.py:34: FutureWarning: is_categorical_dtype is deprecated and will be removed in a future version. Use isinstance(dtype, CategoricalDtype) instead\n",
      "  if pdt.is_categorical_dtype(series):\n",
      "/home/ryo/.pyenv/versions/miniconda3-latest/envs/mlflow-47f6273df0b5dfba88b956baa9b2ddbf2746f953/lib/python3.10/site-packages/ydata_profiling/model/typeset_relations.py:34: FutureWarning: is_categorical_dtype is deprecated and will be removed in a future version. Use isinstance(dtype, CategoricalDtype) instead\n",
      "  if pdt.is_categorical_dtype(series):\n",
      "/home/ryo/.pyenv/versions/miniconda3-latest/envs/mlflow-47f6273df0b5dfba88b956baa9b2ddbf2746f953/lib/python3.10/site-packages/ydata_profiling/model/typeset.py:208: FutureWarning: is_categorical_dtype is deprecated and will be removed in a future version. Use isinstance(dtype, CategoricalDtype) instead\n",
      "  is_valid_dtype = pdt.is_categorical_dtype(series) and not pdt.is_bool_dtype(\n",
      "/home/ryo/.pyenv/versions/miniconda3-latest/envs/mlflow-47f6273df0b5dfba88b956baa9b2ddbf2746f953/lib/python3.10/site-packages/ydata_profiling/model/typeset.py:125: FutureWarning: is_categorical_dtype is deprecated and will be removed in a future version. Use isinstance(dtype, CategoricalDtype) instead\n",
      "  not pdt.is_categorical_dtype(series)\n",
      "/home/ryo/.pyenv/versions/miniconda3-latest/envs/mlflow-47f6273df0b5dfba88b956baa9b2ddbf2746f953/lib/python3.10/site-packages/ydata_profiling/model/typeset_relations.py:34: FutureWarning: is_categorical_dtype is deprecated and will be removed in a future version. Use isinstance(dtype, CategoricalDtype) instead\n",
      "  if pdt.is_categorical_dtype(series):\n",
      "/home/ryo/.pyenv/versions/miniconda3-latest/envs/mlflow-47f6273df0b5dfba88b956baa9b2ddbf2746f953/lib/python3.10/site-packages/ydata_profiling/model/typeset_relations.py:34: FutureWarning: is_categorical_dtype is deprecated and will be removed in a future version. Use isinstance(dtype, CategoricalDtype) instead\n",
      "  if pdt.is_categorical_dtype(series):\n",
      "/home/ryo/.pyenv/versions/miniconda3-latest/envs/mlflow-47f6273df0b5dfba88b956baa9b2ddbf2746f953/lib/python3.10/site-packages/ydata_profiling/model/correlations.py:66: UserWarning: There was an attempt to calculate the auto correlation, but this failed.\n",
      "To hide this warning, disable the calculation\n",
      "(using `df.profile_report(correlations={\"auto\": {\"calculate\": False}})`\n",
      "If this is problematic for your use case, please report this as an issue:\n",
      "https://github.com/ydataai/ydata-profiling/issues\n",
      "(include the error message: 'Function <code object pandas_auto_compute at 0x7f8a72f954d0, file \"/home/ryo/.pyenv/versions/miniconda3-latest/envs/mlflow-47f6273df0b5dfba88b956baa9b2ddbf2746f953/lib/python3.10/site-packages/ydata_profiling/model/pandas/correlations_pandas.py\", line 167>')\n",
      "  warnings.warn(\n"
     ]
    },
    {
     "data": {
      "application/vnd.jupyter.widget-view+json": {
       "model_id": "9c9e79c0709b4dfc865edec065ba41b9",
       "version_major": 2,
       "version_minor": 0
      },
      "text/plain": [
       "Generate report structure:   0%|          | 0/1 [00:00<?, ?it/s]"
      ]
     },
     "metadata": {},
     "output_type": "display_data"
    },
    {
     "data": {
      "application/vnd.jupyter.widget-view+json": {
       "model_id": "",
       "version_major": 2,
       "version_minor": 0
      },
      "text/plain": [
       "Render widgets:   0%|          | 0/1 [00:00<?, ?it/s]"
      ]
     },
     "metadata": {},
     "output_type": "display_data"
    },
    {
     "data": {
      "application/vnd.jupyter.widget-view+json": {
       "model_id": "037dedc9ec134b23a329b0be9a1b1e98",
       "version_major": 2,
       "version_minor": 0
      },
      "text/plain": [
       "VBox(children=(Tab(children=(Tab(children=(GridBox(children=(VBox(children=(GridspecLayout(children=(HTML(valu…"
      ]
     },
     "metadata": {},
     "output_type": "display_data"
    }
   ],
   "source": [
    "import ydata_profiling\n",
    "profile = ydata_profiling.ProfileReport(df)\n",
    "profile.to_widgets()"
   ]
  },
  {
   "cell_type": "code",
   "execution_count": 4,
   "id": "50fdef6c-9877-49de-9054-80a19ea1d6bb",
   "metadata": {},
   "outputs": [
    {
     "name": "stdout",
     "output_type": "stream",
     "text": [
      "<class 'pandas.core.frame.DataFrame'>\n",
      "Index: 19001 entries, 0 to 19999\n",
      "Data columns (total 16 columns):\n",
      " #   Column                          Non-Null Count  Dtype         \n",
      "---  ------                          --------------  -----         \n",
      " 0   id                              19001 non-null  int64         \n",
      " 1   name                            18994 non-null  object        \n",
      " 2   host_id                         19001 non-null  int64         \n",
      " 3   host_name                       18993 non-null  object        \n",
      " 4   neighbourhood_group             19001 non-null  object        \n",
      " 5   neighbourhood                   19001 non-null  object        \n",
      " 6   latitude                        19001 non-null  float64       \n",
      " 7   longitude                       19001 non-null  float64       \n",
      " 8   room_type                       19001 non-null  object        \n",
      " 9   price                           19001 non-null  int64         \n",
      " 10  minimum_nights                  19001 non-null  int64         \n",
      " 11  number_of_reviews               19001 non-null  int64         \n",
      " 12  last_review                     15243 non-null  datetime64[ns]\n",
      " 13  reviews_per_month               15243 non-null  float64       \n",
      " 14  calculated_host_listings_count  19001 non-null  int64         \n",
      " 15  availability_365                19001 non-null  int64         \n",
      "dtypes: datetime64[ns](1), float64(3), int64(7), object(5)\n",
      "memory usage: 2.5+ MB\n"
     ]
    }
   ],
   "source": [
    "df.info()"
   ]
  },
  {
   "cell_type": "code",
   "execution_count": 12,
   "id": "f9cb120b-b528-416c-b46e-5a7b5a2825e8",
   "metadata": {},
   "outputs": [
    {
     "data": {
      "application/vnd.jupyter.widget-view+json": {
       "model_id": "",
       "version_major": 2,
       "version_minor": 0
      },
      "text/plain": [
       "VBox(children=(Label(value='0.127 MB of 0.127 MB uploaded\\r'), FloatProgress(value=1.0, max=1.0)))"
      ]
     },
     "metadata": {},
     "output_type": "display_data"
    },
    {
     "data": {
      "text/html": [
       "W&B sync reduced upload amount by 1.7%             "
      ],
      "text/plain": [
       "<IPython.core.display.HTML object>"
      ]
     },
     "metadata": {},
     "output_type": "display_data"
    },
    {
     "data": {
      "text/html": [
       " View run <strong style=\"color:#cdcd00\">dry-shadow-12</strong> at: <a href='https://wandb.ai/nannyakannya-monoxer-/nyc_airbnb/runs/g4kq96zj' target=\"_blank\">https://wandb.ai/nannyakannya-monoxer-/nyc_airbnb/runs/g4kq96zj</a><br/> View job at <a href='https://wandb.ai/nannyakannya-monoxer-/nyc_airbnb/jobs/QXJ0aWZhY3RDb2xsZWN0aW9uOjQxNDk5ODY2Ng==/version_details/v1' target=\"_blank\">https://wandb.ai/nannyakannya-monoxer-/nyc_airbnb/jobs/QXJ0aWZhY3RDb2xsZWN0aW9uOjQxNDk5ODY2Ng==/version_details/v1</a><br/>Synced 7 W&B file(s), 0 media file(s), 7 artifact file(s) and 2 other file(s)"
      ],
      "text/plain": [
       "<IPython.core.display.HTML object>"
      ]
     },
     "metadata": {},
     "output_type": "display_data"
    },
    {
     "data": {
      "text/html": [
       "Find logs at: <code>./wandb/run-20240818_201641-g4kq96zj/logs</code>"
      ],
      "text/plain": [
       "<IPython.core.display.HTML object>"
      ]
     },
     "metadata": {},
     "output_type": "display_data"
    }
   ],
   "source": [
    "run.finish()"
   ]
  },
  {
   "cell_type": "code",
   "execution_count": null,
   "id": "69896230-f25f-4bf9-9a82-7aefd3d47716",
   "metadata": {},
   "outputs": [],
   "source": []
  }
 ],
 "metadata": {
  "kernelspec": {
   "display_name": "Python 3 (ipykernel)",
   "language": "python",
   "name": "python3"
  },
  "language_info": {
   "codemirror_mode": {
    "name": "ipython",
    "version": 3
   },
   "file_extension": ".py",
   "mimetype": "text/x-python",
   "name": "python",
   "nbconvert_exporter": "python",
   "pygments_lexer": "ipython3",
   "version": "3.10.14"
  }
 },
 "nbformat": 4,
 "nbformat_minor": 5
}
